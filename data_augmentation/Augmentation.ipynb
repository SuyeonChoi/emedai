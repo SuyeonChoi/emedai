{
 "cells": [
  {
   "cell_type": "markdown",
   "metadata": {},
   "source": [
    "# Imports\n"
   ]
  },
  {
   "cell_type": "code",
   "execution_count": 15,
   "metadata": {},
   "outputs": [],
   "source": [
    "import numpy as np\n",
    "import os\n",
    "import time\n",
    "\n",
    "from os import listdir\n",
    "from os.path import isfile, join\n",
    "from PIL import Image"
   ]
  },
  {
   "cell_type": "markdown",
   "metadata": {},
   "source": [
    "# Keras의 ImageDataGenerator\n",
    "\n",
    "여러가지 파라미터를 이용하여 부풀릴 데이터의 변형 정도 입력"
   ]
  },
  {
   "cell_type": "code",
   "execution_count": 16,
   "metadata": {},
   "outputs": [],
   "source": [
    " np.random.seed(3)\n",
    "from keras.preprocessing.image import ImageDataGenerator, array_to_img, img_to_array, load_img\n",
    " \n",
    " \n",
    "data_datagen = ImageDataGenerator(rescale=1./255)\n",
    " \n",
    "data_datagen = ImageDataGenerator(rescale=1./255,\n",
    "                                   rotation_range=10, \n",
    "                                   shear_range=5,  \n",
    "                                   width_shift_range=10,\n",
    "                                   height_shift_range=0.1,\n",
    "                                   zoom_range=0.5,\n",
    "                                   horizontal_flip=False,\n",
    "                                   vertical_flip=False,\n",
    "                                   fill_mode='nearest') "
   ]
  },
  {
   "cell_type": "markdown",
   "metadata": {},
   "source": [
    "- file_list : augmentation 폴더 안의 파일의 개수 정보를 저장하여 새로운 변형된 이미지의 추가 저장 가능\n",
    "- filename_in_dir : images 폴더의 이미지를 저장하는 리스트"
   ]
  },
  {
   "cell_type": "code",
   "execution_count": 17,
   "metadata": {},
   "outputs": [],
   "source": [
    "file_list = os.listdir(\"./augmentation/\")\n",
    "index = len(file_list)\n",
    "\n",
    "\n",
    "filename_in_dir = [] \n",
    " \n",
    "for root, dirs, files in os.walk('./images'):\n",
    "    for  fname in files:\n",
    "        full_fname = os.path.join(root, fname)\n",
    "        filename_in_dir.append(full_fname)\n",
    " \n"
   ]
  },
  {
   "cell_type": "markdown",
   "metadata": {},
   "source": [
    "### 반복문을 이용하여 개당 부풀린 사진 개수 조절\n",
    "저장되는 파일명 : augmentation_index"
   ]
  },
  {
   "cell_type": "code",
   "execution_count": 18,
   "metadata": {},
   "outputs": [
    {
     "name": "stdout",
     "output_type": "stream",
     "text": [
      "./images\\DSC03122.JPG\n",
      "WorkingTime: 3.5004000663757324 sec\n",
      "./images\\DSC03126.JPG\n",
      "WorkingTime: 3.4423041343688965 sec\n",
      "./images\\DSC03130.JPG\n",
      "WorkingTime: 3.5924277305603027 sec\n",
      "./images\\DSC03134.JPG\n",
      "WorkingTime: 3.4340717792510986 sec\n",
      "./images\\DSC03138.JPG\n",
      "WorkingTime: 3.54964280128479 sec\n",
      "./images\\DSC03142.JPG\n",
      "WorkingTime: 3.600135564804077 sec\n",
      "./images\\DSC03146.JPG\n",
      "WorkingTime: 3.4851062297821045 sec\n",
      "./images\\DSC03151.JPG\n",
      "WorkingTime: 3.56608510017395 sec\n",
      "./images\\DSC03155.JPG\n",
      "WorkingTime: 3.5365309715270996 sec\n",
      "./images\\DSC03159.JPG\n",
      "WorkingTime: 3.519958019256592 sec\n",
      "./images\\DSC03163.JPG\n",
      "WorkingTime: 3.515105962753296 sec\n",
      "./images\\DSC03167.JPG\n",
      "WorkingTime: 3.5911686420440674 sec\n",
      "./images\\DSC03172.JPG\n",
      "WorkingTime: 3.765767812728882 sec\n",
      "./images\\DSC03176.JPG\n",
      "WorkingTime: 3.6713643074035645 sec\n",
      "./images\\DSC03180.JPG\n",
      "WorkingTime: 3.5624945163726807 sec\n",
      "./images\\DSC03184.JPG\n",
      "WorkingTime: 3.5752720832824707 sec\n"
     ]
    }
   ],
   "source": [
    "for file_image in filename_in_dir:\n",
    "    print(file_image)\n",
    "    img = load_img(file_image) \n",
    "    x = img_to_array(img)\n",
    "    x = x.reshape((1,) + x.shape)\n",
    " \n",
    "    i = 0\n",
    "    start_time = time.time()\n",
    "    directory = './augmentation/augmentation_'+str(index)\n",
    "    os.mkdir(directory)\n",
    "    index = 1+index\n",
    "\n",
    "    for batch in data_datagen.flow(x,save_to_dir=directory, save_prefix='a', save_format='jpg'):\n",
    "        i += 1\n",
    "        if i > 10:\n",
    "            #처리속도출력\n",
    "            print(\"WorkingTime: {} sec\".format(time.time()-start_time))\n",
    "            break"
   ]
  },
  {
   "cell_type": "code",
   "execution_count": null,
   "metadata": {},
   "outputs": [],
   "source": []
  }
 ],
 "metadata": {
  "kernelspec": {
   "display_name": "Python 3",
   "language": "python",
   "name": "python3"
  },
  "language_info": {
   "codemirror_mode": {
    "name": "ipython",
    "version": 3
   },
   "file_extension": ".py",
   "mimetype": "text/x-python",
   "name": "python",
   "nbconvert_exporter": "python",
   "pygments_lexer": "ipython3",
   "version": "3.7.4"
  }
 },
 "nbformat": 4,
 "nbformat_minor": 2
}
